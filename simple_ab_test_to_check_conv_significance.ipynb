{
 "cells": [
  {
   "cell_type": "code",
   "execution_count": 1,
   "id": "6494b252",
   "metadata": {},
   "outputs": [],
   "source": [
    "import numpy as np\n",
    "import pandas as pd\n",
    "from scipy import stats\n",
    "import math"
   ]
  },
  {
   "cell_type": "code",
   "execution_count": 2,
   "id": "6af5d465",
   "metadata": {},
   "outputs": [],
   "source": [
    "def significance_test(vistors_a, visitors_b, conv_a, conv_b):\n",
    "    conv_rate_a = conv_a / vistors_a\n",
    "    conv_rate_b = conv_b / visitors_b\n",
    "\n",
    "    se_a = math.sqrt(conv_rate_a * (1 - conv_rate_a) / vistors_a)\n",
    "    se_b = math.sqrt(conv_rate_b * (1 - conv_rate_b) / visitors_b)\n",
    "\n",
    "    z_score = ((conv_rate_b - conv_rate_a) / math.sqrt(se_a**2 + se_b**2))\n",
    "\n",
    "    return stats.norm.sf(abs(z_score)) * 2\n"
   ]
  },
  {
   "cell_type": "code",
   "execution_count": 3,
   "id": "22a59870",
   "metadata": {},
   "outputs": [],
   "source": [
    "result = significance_test(15000, 12000, 1500, 1250)"
   ]
  },
  {
   "cell_type": "code",
   "execution_count": 4,
   "id": "8da3ea30",
   "metadata": {},
   "outputs": [
    {
     "name": "stdout",
     "output_type": "stream",
     "text": [
      "0.2616107809920556\n"
     ]
    }
   ],
   "source": [
    "print(result)"
   ]
  }
 ],
 "metadata": {
  "kernelspec": {
   "display_name": "Python 3 (ipykernel)",
   "language": "python",
   "name": "python3"
  },
  "language_info": {
   "codemirror_mode": {
    "name": "ipython",
    "version": 3
   },
   "file_extension": ".py",
   "mimetype": "text/x-python",
   "name": "python",
   "nbconvert_exporter": "python",
   "pygments_lexer": "ipython3",
   "version": "3.10.4"
  }
 },
 "nbformat": 4,
 "nbformat_minor": 5
}
